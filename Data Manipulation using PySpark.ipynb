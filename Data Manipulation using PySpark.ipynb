{
  "nbformat": 4,
  "nbformat_minor": 0,
  "metadata": {
    "colab": {
      "provenance": []
    },
    "kernelspec": {
      "name": "python3",
      "display_name": "Python 3"
    },
    "language_info": {
      "name": "python"
    }
  },
  "cells": [
    {
      "cell_type": "code",
      "source": [
        "pip install pyspark\n"
      ],
      "metadata": {
        "colab": {
          "base_uri": "https://localhost:8080/"
        },
        "id": "KtMxxPqaJj7C",
        "outputId": "8d7770c8-ce0e-44e7-bd54-8862178a0491"
      },
      "execution_count": 1,
      "outputs": [
        {
          "output_type": "stream",
          "name": "stdout",
          "text": [
            "Collecting pyspark\n",
            "  Downloading pyspark-3.5.1.tar.gz (317.0 MB)\n",
            "\u001b[2K     \u001b[90m━━━━━━━━━━━━━━━━━━━━━━━━━━━━━━━━━━━━━━━━\u001b[0m \u001b[32m317.0/317.0 MB\u001b[0m \u001b[31m3.8 MB/s\u001b[0m eta \u001b[36m0:00:00\u001b[0m\n",
            "\u001b[?25h  Preparing metadata (setup.py) ... \u001b[?25l\u001b[?25hdone\n",
            "Requirement already satisfied: py4j==0.10.9.7 in /usr/local/lib/python3.10/dist-packages (from pyspark) (0.10.9.7)\n",
            "Building wheels for collected packages: pyspark\n",
            "  Building wheel for pyspark (setup.py) ... \u001b[?25l\u001b[?25hdone\n",
            "  Created wheel for pyspark: filename=pyspark-3.5.1-py2.py3-none-any.whl size=317488493 sha256=a49d45880271218993c3bf0b9ea79c15c3bf0047bc924b2a9c976285af713615\n",
            "  Stored in directory: /root/.cache/pip/wheels/80/1d/60/2c256ed38dddce2fdd93be545214a63e02fbd8d74fb0b7f3a6\n",
            "Successfully built pyspark\n",
            "Installing collected packages: pyspark\n",
            "Successfully installed pyspark-3.5.1\n"
          ]
        }
      ]
    },
    {
      "cell_type": "code",
      "source": [
        "# Import Sparksession\n",
        "from pyspark.sql import SparkSession\n",
        "spark=SparkSession.builder.appName(\"Data_Wrangling\").getOrCreate()"
      ],
      "metadata": {
        "id": "us3vM4oWUHhq"
      },
      "execution_count": 2,
      "outputs": []
    },
    {
      "cell_type": "code",
      "source": [
        "# Print PySpark and Python versions\n",
        "import sys\n",
        "print('Python version: '+sys.version)\n",
        "print('Spark version: '+spark.version)"
      ],
      "metadata": {
        "colab": {
          "base_uri": "https://localhost:8080/"
        },
        "id": "baR4JhXaUf04",
        "outputId": "d0b0138e-75d8-4bb5-f311-ac233b2e59ce"
      },
      "execution_count": 3,
      "outputs": [
        {
          "output_type": "stream",
          "name": "stdout",
          "text": [
            "Python version: 3.10.12 (main, Nov 20 2023, 15:14:05) [GCC 11.4.0]\n",
            "Spark version: 3.5.1\n"
          ]
        }
      ]
    },
    {
      "cell_type": "code",
      "source": [
        "# Read data\n",
        "file_location = \"movie_data_part1.csv\"\n",
        "file_type = \"csv\"\n",
        "infer_schema = \"false\"\n",
        "first_row_is_header = \"true\"\n",
        "delimiter = \"|\"\n",
        "\n",
        "df = spark.read.format(file_type)\\\n",
        ".option(\"inferSchema\", infer_schema)\\\n",
        ".option(\"header\", first_row_is_header)\\\n",
        ".option(\"sep\", delimiter)\\\n",
        ".load(file_location)"
      ],
      "metadata": {
        "id": "oT7CspZDUhXM"
      },
      "execution_count": 4,
      "outputs": []
    },
    {
      "cell_type": "code",
      "source": [
        "# Print Metadata\n",
        "df.printSchema()"
      ],
      "metadata": {
        "colab": {
          "base_uri": "https://localhost:8080/"
        },
        "id": "5twu-jQwUqhO",
        "outputId": "c5b0208a-7ade-49d0-ee91-aec72aa187a5"
      },
      "execution_count": 5,
      "outputs": [
        {
          "output_type": "stream",
          "name": "stdout",
          "text": [
            "root\n",
            " |-- belongs_to_collection: string (nullable = true)\n",
            " |-- budget: string (nullable = true)\n",
            " |-- id: string (nullable = true)\n",
            " |-- original_language: string (nullable = true)\n",
            " |-- original_title: string (nullable = true)\n",
            " |-- overview: string (nullable = true)\n",
            " |-- popularity: string (nullable = true)\n",
            " |-- production_companies: string (nullable = true)\n",
            " |-- production_countries: string (nullable = true)\n",
            " |-- release_date: string (nullable = true)\n",
            " |-- revenue: string (nullable = true)\n",
            " |-- runtime: string (nullable = true)\n",
            " |-- status: string (nullable = true)\n",
            " |-- tagline: string (nullable = true)\n",
            " |-- title: string (nullable = true)\n",
            " |-- vote_average: string (nullable = true)\n",
            "\n"
          ]
        }
      ]
    },
    {
      "cell_type": "code",
      "source": [
        "# Print Metadata - 2nd method\n",
        "df.dtypes"
      ],
      "metadata": {
        "colab": {
          "base_uri": "https://localhost:8080/"
        },
        "id": "h6BbCQcyUu0N",
        "outputId": "b14190a9-fb03-4c9f-9a7d-0fd8c80fd6e6"
      },
      "execution_count": 6,
      "outputs": [
        {
          "output_type": "execute_result",
          "data": {
            "text/plain": [
              "[('belongs_to_collection', 'string'),\n",
              " ('budget', 'string'),\n",
              " ('id', 'string'),\n",
              " ('original_language', 'string'),\n",
              " ('original_title', 'string'),\n",
              " ('overview', 'string'),\n",
              " ('popularity', 'string'),\n",
              " ('production_companies', 'string'),\n",
              " ('production_countries', 'string'),\n",
              " ('release_date', 'string'),\n",
              " ('revenue', 'string'),\n",
              " ('runtime', 'string'),\n",
              " ('status', 'string'),\n",
              " ('tagline', 'string'),\n",
              " ('title', 'string'),\n",
              " ('vote_average', 'string')]"
            ]
          },
          "metadata": {},
          "execution_count": 6
        }
      ]
    },
    {
      "cell_type": "code",
      "source": [
        "#  Count data\n",
        "df.count()\n",
        "print('The total number of records in the movie dataset are '+str(df.count()))"
      ],
      "metadata": {
        "colab": {
          "base_uri": "https://localhost:8080/"
        },
        "id": "NV7hR5IDUwBl",
        "outputId": "45bdafbb-9843-4194-f79c-7999534ff389"
      },
      "execution_count": 7,
      "outputs": [
        {
          "output_type": "stream",
          "name": "stdout",
          "text": [
            "The total number of records in the movie dataset are 43998\n"
          ]
        }
      ]
    },
    {
      "cell_type": "code",
      "source": [
        "#  Drop Columns\n",
        "drop_columns_list=[\"overview\",\"belongs_to_collection\",\"production_companies\",\"production_countries\",\"status\",\"original_title\"]\n",
        "df1=df.drop(*drop_columns_list)"
      ],
      "metadata": {
        "id": "mHWJv5y3U-kS"
      },
      "execution_count": 8,
      "outputs": []
    },
    {
      "cell_type": "code",
      "source": [
        "# Subsetting Columns\n",
        "select_columns=['id','budget','popularity','release_date','revenue','title']\n",
        "df=df.select(*select_columns)\n",
        "df.show()"
      ],
      "metadata": {
        "colab": {
          "base_uri": "https://localhost:8080/"
        },
        "id": "a740J0v7VCcC",
        "outputId": "c224b97e-30db-410c-9353-34d86121cd49"
      },
      "execution_count": 9,
      "outputs": [
        {
          "output_type": "stream",
          "name": "stdout",
          "text": [
            "+-----+-------+------------------+------------+-------+--------------------+\n",
            "|   id| budget|        popularity|release_date|revenue|               title|\n",
            "+-----+-------+------------------+------------+-------+--------------------+\n",
            "|43000|      0|             2.503|  1962-05-23|      0|The Elusive Corporal|\n",
            "|43001|      0|              5.51|  1962-11-12|      0|  Sundays and Cybele|\n",
            "|43002|      0|              5.62|  1962-05-24|      0|Lonely Are the Brave|\n",
            "|43003|      0|             7.159|  1975-03-12|      0|          F for Fake|\n",
            "|43004| 500000|             3.988|  1962-10-09|      0|Long Day's Journe...|\n",
            "|43006|      0|             3.194|  1962-03-09|      0|           My Geisha|\n",
            "|43007|      0|             2.689|  1962-10-31|      0|Period of Adjustment|\n",
            "|43008|      0|             6.537|  1959-03-13|      0|    The Hanging Tree|\n",
            "|43010|      0|             4.297|  1962-01-01|      0|Sherlock Holmes a...|\n",
            "|43011|      0|             4.417|  1962-01-01|      0|  Sodom and Gomorrah|\n",
            "|43012|7000000|4.7219999999999995|  1962-11-21|4000000|         Taras Bulba|\n",
            "|43013|      0|             2.543|  1962-04-17|      0|The Counterfeit T...|\n",
            "|43014|      0|             4.303|  1962-10-24|      0|     Tower of London|\n",
            "|43015|      0|             3.493|  1962-12-07|      0|Varan the Unbelie...|\n",
            "|43016|      0|             2.851|  1962-01-01|      0|Waltz of the Tore...|\n",
            "|43017|      0|             4.047|  1961-10-11|      0|         Back Street|\n",
            "|43018|      0|             2.661|  1961-06-02|      0|Gidget Goes Hawaiian|\n",
            "|43019|      0|             3.225|  2010-05-28|      0|Schuks Tshabalala...|\n",
            "|43020|      0|              5.72|  1961-06-15|      0|The Colossus of R...|\n",
            "|43021|      0|             3.292|  2008-08-22|      0|          Sex Galaxy|\n",
            "+-----+-------+------------------+------------+-------+--------------------+\n",
            "only showing top 20 rows\n",
            "\n"
          ]
        }
      ]
    },
    {
      "cell_type": "code",
      "source": [
        "# Subsetting Columns\n",
        "df = spark.read.format(file_type)\\\n",
        ".option(\"inferSchema\", infer_schema)\\\n",
        ".option(\"header\", first_row_is_header)\\\n",
        ".option(\"sep\", delimiter)\\\n",
        ".load(file_location)\n",
        "df=df.select(df[2],df[1],df[6],df[9],df[10],df[14])\n",
        "df.show()"
      ],
      "metadata": {
        "colab": {
          "base_uri": "https://localhost:8080/"
        },
        "id": "Ty6byjOuVJLj",
        "outputId": "7a92c2e0-83cc-4c40-e7f3-82fe5b160540"
      },
      "execution_count": 10,
      "outputs": [
        {
          "output_type": "stream",
          "name": "stdout",
          "text": [
            "+-----+-------+------------------+------------+-------+--------------------+\n",
            "|   id| budget|        popularity|release_date|revenue|               title|\n",
            "+-----+-------+------------------+------------+-------+--------------------+\n",
            "|43000|      0|             2.503|  1962-05-23|      0|The Elusive Corporal|\n",
            "|43001|      0|              5.51|  1962-11-12|      0|  Sundays and Cybele|\n",
            "|43002|      0|              5.62|  1962-05-24|      0|Lonely Are the Brave|\n",
            "|43003|      0|             7.159|  1975-03-12|      0|          F for Fake|\n",
            "|43004| 500000|             3.988|  1962-10-09|      0|Long Day's Journe...|\n",
            "|43006|      0|             3.194|  1962-03-09|      0|           My Geisha|\n",
            "|43007|      0|             2.689|  1962-10-31|      0|Period of Adjustment|\n",
            "|43008|      0|             6.537|  1959-03-13|      0|    The Hanging Tree|\n",
            "|43010|      0|             4.297|  1962-01-01|      0|Sherlock Holmes a...|\n",
            "|43011|      0|             4.417|  1962-01-01|      0|  Sodom and Gomorrah|\n",
            "|43012|7000000|4.7219999999999995|  1962-11-21|4000000|         Taras Bulba|\n",
            "|43013|      0|             2.543|  1962-04-17|      0|The Counterfeit T...|\n",
            "|43014|      0|             4.303|  1962-10-24|      0|     Tower of London|\n",
            "|43015|      0|             3.493|  1962-12-07|      0|Varan the Unbelie...|\n",
            "|43016|      0|             2.851|  1962-01-01|      0|Waltz of the Tore...|\n",
            "|43017|      0|             4.047|  1961-10-11|      0|         Back Street|\n",
            "|43018|      0|             2.661|  1961-06-02|      0|Gidget Goes Hawaiian|\n",
            "|43019|      0|             3.225|  2010-05-28|      0|Schuks Tshabalala...|\n",
            "|43020|      0|              5.72|  1961-06-15|      0|The Colossus of R...|\n",
            "|43021|      0|             3.292|  2008-08-22|      0|          Sex Galaxy|\n",
            "+-----+-------+------------------+------------+-------+--------------------+\n",
            "only showing top 20 rows\n",
            "\n"
          ]
        }
      ]
    },
    {
      "cell_type": "code",
      "source": [
        "# Identifying missing values\n",
        "from pyspark.sql.functions import *\n",
        "df.filter((df['popularity']=='')|df['popularity'].isNull()|isnan(df['popularity'])).count()"
      ],
      "metadata": {
        "colab": {
          "base_uri": "https://localhost:8080/"
        },
        "id": "Aue4wfJHVMQZ",
        "outputId": "7794de24-58e3-4b2a-928a-07fa9e09f431"
      },
      "execution_count": 11,
      "outputs": [
        {
          "output_type": "execute_result",
          "data": {
            "text/plain": [
              "215"
            ]
          },
          "metadata": {},
          "execution_count": 11
        }
      ]
    },
    {
      "cell_type": "code",
      "source": [
        "# Identifying missing values\n",
        "df.select([count(when((col(c)=='') | col(c).isNull() |isnan(c), c)).alias(c) for c in df.columns]).show()"
      ],
      "metadata": {
        "colab": {
          "base_uri": "https://localhost:8080/"
        },
        "id": "WbWAEMxDVv_9",
        "outputId": "26009079-2c8d-4522-9bb2-df59aad72752"
      },
      "execution_count": 12,
      "outputs": [
        {
          "output_type": "stream",
          "name": "stdout",
          "text": [
            "+---+------+----------+------------+-------+-----+\n",
            "| id|budget|popularity|release_date|revenue|title|\n",
            "+---+------+----------+------------+-------+-----+\n",
            "|125|   125|       215|         221|    215|  304|\n",
            "+---+------+----------+------------+-------+-----+\n",
            "\n"
          ]
        }
      ]
    },
    {
      "cell_type": "code",
      "source": [
        "# One way Frequencies\n",
        "df.groupBy(df['title']).count().show()"
      ],
      "metadata": {
        "colab": {
          "base_uri": "https://localhost:8080/"
        },
        "id": "WLnEEX6MV0Vo",
        "outputId": "71db1bb7-cb22-4599-92ee-6746dcc5574c"
      },
      "execution_count": 13,
      "outputs": [
        {
          "output_type": "stream",
          "name": "stdout",
          "text": [
            "+--------------------+-----+\n",
            "|               title|count|\n",
            "+--------------------+-----+\n",
            "|   The Corn Is Green|    1|\n",
            "|Meet The Browns -...|    1|\n",
            "|Morenita, El Esca...|    1|\n",
            "| Father Takes a Wife|    1|\n",
            "|The Werewolf of W...|    1|\n",
            "|My Wife Is a Gang...|    1|\n",
            "|Depeche Mode: Tou...|    1|\n",
            "|  A Woman Is a Woman|    1|\n",
            "|History Is Made a...|    1|\n",
            "|      Colombian Love|    1|\n",
            "|        Ace Attorney|    1|\n",
            "|     Not Like Others|    1|\n",
            "|40 Guns to Apache...|    1|\n",
            "|          Middle Men|    1|\n",
            "|         It's a Gift|    1|\n",
            "|    La Vie de Bohème|    1|\n",
            "|Rasputin: The Mad...|    1|\n",
            "|The Ballad of Jac...|    1|\n",
            "|         How to Deal|    1|\n",
            "|             Freaked|    1|\n",
            "+--------------------+-----+\n",
            "only showing top 20 rows\n",
            "\n"
          ]
        }
      ]
    },
    {
      "cell_type": "code",
      "source": [
        "#Frequencies - descending order\n",
        "df.groupby(df['title']).count().sort(desc(\"count\")).show(10, False)"
      ],
      "metadata": {
        "colab": {
          "base_uri": "https://localhost:8080/"
        },
        "id": "AecZfV9ZV6xH",
        "outputId": "b46e9b1e-c100-4f58-bb64-0b554ca38165"
      },
      "execution_count": 14,
      "outputs": [
        {
          "output_type": "stream",
          "name": "stdout",
          "text": [
            "+--------------------+-----+\n",
            "|title               |count|\n",
            "+--------------------+-----+\n",
            "|NULL                |304  |\n",
            "|Les Misérables      |8    |\n",
            "|The Three Musketeers|8    |\n",
            "|Cinderella          |8    |\n",
            "|A Christmas Carol   |7    |\n",
            "|The Island          |7    |\n",
            "|Dracula             |7    |\n",
            "|Hamlet              |7    |\n",
            "|Frankenstein        |7    |\n",
            "|Cleopatra           |6    |\n",
            "+--------------------+-----+\n",
            "only showing top 10 rows\n",
            "\n"
          ]
        }
      ]
    },
    {
      "cell_type": "code",
      "source": [
        "#  One way frquencies with filters\n",
        "df_temp=df.filter((df['title']!='')&(df['title'].isNotNull()) & (~isnan(df['title'])))\n",
        "df_temp.groupby(df_temp['title']).count().filter(\"`count` >4\").sort(col(\"count\").desc()).show(10,False)\n",
        "df_temp.groupby(df_temp['title']).count().filter(\"`count` >4\").sort(col(\"count\").desc()).count()"
      ],
      "metadata": {
        "colab": {
          "base_uri": "https://localhost:8080/"
        },
        "id": "6Ma3j5rXV-mC",
        "outputId": "0530d70f-78e7-40b1-bf12-5682ca3de148"
      },
      "execution_count": 15,
      "outputs": [
        {
          "output_type": "stream",
          "name": "stdout",
          "text": [
            "+--------------------+-----+\n",
            "|title               |count|\n",
            "+--------------------+-----+\n",
            "|Les Misérables      |8    |\n",
            "|The Three Musketeers|8    |\n",
            "|Cinderella          |8    |\n",
            "|A Christmas Carol   |7    |\n",
            "|The Island          |7    |\n",
            "|Frankenstein        |7    |\n",
            "|Dracula             |7    |\n",
            "|Hamlet              |7    |\n",
            "|Treasure Island     |6    |\n",
            "|The Lost World      |6    |\n",
            "+--------------------+-----+\n",
            "only showing top 10 rows\n",
            "\n"
          ]
        },
        {
          "output_type": "execute_result",
          "data": {
            "text/plain": [
              "43"
            ]
          },
          "metadata": {},
          "execution_count": 15
        }
      ]
    },
    {
      "cell_type": "code",
      "source": [
        "# Casting\n",
        "df = df.withColumn('budget',df['budget'].cast(\"float\"))"
      ],
      "metadata": {
        "id": "8wmLtuPOWESz"
      },
      "execution_count": 16,
      "outputs": []
    },
    {
      "cell_type": "code",
      "source": [
        "#Before Casting\n",
        "df.dtypes"
      ],
      "metadata": {
        "colab": {
          "base_uri": "https://localhost:8080/"
        },
        "id": "XUnb6kY5WIGj",
        "outputId": "72bb8908-ceec-4c55-c50f-ca85841e6031"
      },
      "execution_count": 17,
      "outputs": [
        {
          "output_type": "execute_result",
          "data": {
            "text/plain": [
              "[('id', 'string'),\n",
              " ('budget', 'float'),\n",
              " ('popularity', 'string'),\n",
              " ('release_date', 'string'),\n",
              " ('revenue', 'string'),\n",
              " ('title', 'string')]"
            ]
          },
          "metadata": {},
          "execution_count": 17
        }
      ]
    },
    {
      "cell_type": "code",
      "source": [
        "#After Casting\n",
        "df.dtypes\n"
      ],
      "metadata": {
        "colab": {
          "base_uri": "https://localhost:8080/"
        },
        "id": "YeRziUuLWNtM",
        "outputId": "c1d57df5-f848-4892-b082-b94050e9c428"
      },
      "execution_count": 18,
      "outputs": [
        {
          "output_type": "execute_result",
          "data": {
            "text/plain": [
              "[('id', 'string'),\n",
              " ('budget', 'float'),\n",
              " ('popularity', 'string'),\n",
              " ('release_date', 'string'),\n",
              " ('revenue', 'string'),\n",
              " ('title', 'string')]"
            ]
          },
          "metadata": {},
          "execution_count": 18
        }
      ]
    },
    {
      "cell_type": "code",
      "source": [
        "# Casting multiple variables\n",
        "from pyspark.sql.types import *\n",
        "\n",
        "#Identifying and assiging lists of variables\n",
        "int_vars=['id']\n",
        "float_vars=['budget', 'popularity', 'revenue']\n",
        "date_vars=['release_date']\n",
        "\n",
        "for column in int_vars:\n",
        "\tdf=df.withColumn(column,df[column].cast(IntegerType()))\n",
        "for column in float_vars:\n",
        "\tdf=df.withColumn(column,df[column].cast(FloatType()))\n",
        "for column in date_vars:\n",
        "\tdf=df.withColumn(column,df[column].cast(DateType()))"
      ],
      "metadata": {
        "id": "E9eukoCSWRB9"
      },
      "execution_count": 19,
      "outputs": []
    },
    {
      "cell_type": "code",
      "source": [
        "#After Casting\n",
        "df.dtypes"
      ],
      "metadata": {
        "colab": {
          "base_uri": "https://localhost:8080/"
        },
        "id": "laVzxeUBWWZU",
        "outputId": "ec82ac62-3ae8-4081-808c-665dc097b959"
      },
      "execution_count": 20,
      "outputs": [
        {
          "output_type": "execute_result",
          "data": {
            "text/plain": [
              "[('id', 'int'),\n",
              " ('budget', 'float'),\n",
              " ('popularity', 'float'),\n",
              " ('release_date', 'date'),\n",
              " ('revenue', 'float'),\n",
              " ('title', 'string')]"
            ]
          },
          "metadata": {},
          "execution_count": 20
        }
      ]
    },
    {
      "cell_type": "code",
      "source": [
        "#After Casting output\n",
        "df.show(10,False)"
      ],
      "metadata": {
        "colab": {
          "base_uri": "https://localhost:8080/"
        },
        "id": "6Caqw_31WZh8",
        "outputId": "340296fe-9453-490c-80c9-a04321eb1f0c"
      },
      "execution_count": 21,
      "outputs": [
        {
          "output_type": "stream",
          "name": "stdout",
          "text": [
            "+-----+--------+----------+------------+-------+---------------------------------------+\n",
            "|id   |budget  |popularity|release_date|revenue|title                                  |\n",
            "+-----+--------+----------+------------+-------+---------------------------------------+\n",
            "|43000|0.0     |2.503     |1962-05-23  |0.0    |The Elusive Corporal                   |\n",
            "|43001|0.0     |5.51      |1962-11-12  |0.0    |Sundays and Cybele                     |\n",
            "|43002|0.0     |5.62      |1962-05-24  |0.0    |Lonely Are the Brave                   |\n",
            "|43003|0.0     |7.159     |1975-03-12  |0.0    |F for Fake                             |\n",
            "|43004|500000.0|3.988     |1962-10-09  |0.0    |Long Day's Journey Into Night          |\n",
            "|43006|0.0     |3.194     |1962-03-09  |0.0    |My Geisha                              |\n",
            "|43007|0.0     |2.689     |1962-10-31  |0.0    |Period of Adjustment                   |\n",
            "|43008|0.0     |6.537     |1959-03-13  |0.0    |The Hanging Tree                       |\n",
            "|43010|0.0     |4.297     |1962-01-01  |0.0    |Sherlock Holmes and the Deadly Necklace|\n",
            "|43011|0.0     |4.417     |1962-01-01  |0.0    |Sodom and Gomorrah                     |\n",
            "+-----+--------+----------+------------+-------+---------------------------------------+\n",
            "only showing top 10 rows\n",
            "\n"
          ]
        }
      ]
    },
    {
      "cell_type": "code",
      "source": [
        "# Describe function\n",
        "df.describe().show()"
      ],
      "metadata": {
        "colab": {
          "base_uri": "https://localhost:8080/"
        },
        "id": "NvUl42GQWdBX",
        "outputId": "29afdd10-0a61-4290-f629-d7470ba81d6e"
      },
      "execution_count": 22,
      "outputs": [
        {
          "output_type": "stream",
          "name": "stdout",
          "text": [
            "+-------+------------------+--------------------+------------------+-------------------+--------------------+\n",
            "|summary|                id|              budget|        popularity|            revenue|               title|\n",
            "+-------+------------------+--------------------+------------------+-------------------+--------------------+\n",
            "|  count|             43784|               43873|             43783|              43783|               43694|\n",
            "|   mean|44502.304312077475|  3736901.8349631676| 5.295444259579189|  9697079.597382545|            Infinity|\n",
            "| stddev|  27189.6465886264|1.5871814952777285E7|6.1680305192082665|5.687938449628816E7|                 NaN|\n",
            "|    min|                 2|                 0.0|               0.6|                0.0|!Women Art Revolu...|\n",
            "|    max|            100988|               3.8E8|             180.0|       2.78796518E9|       시크릿 Secret|\n",
            "+-------+------------------+--------------------+------------------+-------------------+--------------------+\n",
            "\n"
          ]
        }
      ]
    },
    {
      "cell_type": "code",
      "source": [
        "# Median Calculation\n",
        "df_temp = df.filter((df['budget']!=0)&(df['budget'].isNotNull()) & (~isnan(df['budget'])))\n",
        "median=df_temp.approxQuantile('budget',[0.5],0.001)\n",
        "print ('The median of budget is '+str(median))"
      ],
      "metadata": {
        "colab": {
          "base_uri": "https://localhost:8080/"
        },
        "id": "sVoS6uzIWgv-",
        "outputId": "609195c7-937c-45af-e3e0-167dbfe117ef"
      },
      "execution_count": 23,
      "outputs": [
        {
          "output_type": "stream",
          "name": "stdout",
          "text": [
            "The median of budget is [7000000.0]\n"
          ]
        }
      ]
    },
    {
      "cell_type": "code",
      "source": [
        "# Distinct Counts\n",
        "df.agg(countDistinct(col(\"title\")).alias(\"count\")).show()"
      ],
      "metadata": {
        "colab": {
          "base_uri": "https://localhost:8080/"
        },
        "id": "HzkD3GaaWsni",
        "outputId": "bf432037-ee89-4570-da72-98167b322228"
      },
      "execution_count": 24,
      "outputs": [
        {
          "output_type": "stream",
          "name": "stdout",
          "text": [
            "+-----+\n",
            "|count|\n",
            "+-----+\n",
            "|41138|\n",
            "+-----+\n",
            "\n"
          ]
        }
      ]
    },
    {
      "cell_type": "code",
      "source": [
        "# Distinct Values\n",
        "df.select('title').distinct().show(10,False)"
      ],
      "metadata": {
        "colab": {
          "base_uri": "https://localhost:8080/"
        },
        "id": "zPpfyXFfWtkM",
        "outputId": "e1a47e59-06ec-4540-8075-171a85223a2f"
      },
      "execution_count": 25,
      "outputs": [
        {
          "output_type": "stream",
          "name": "stdout",
          "text": [
            "+---------------------------------------------+\n",
            "|title                                        |\n",
            "+---------------------------------------------+\n",
            "|The Corn Is Green                            |\n",
            "|Meet The Browns - The Play                   |\n",
            "|Morenita, El Escandalo                       |\n",
            "|Father Takes a Wife                          |\n",
            "|The Werewolf of Washington                   |\n",
            "|My Wife Is a Gangster                        |\n",
            "|Depeche Mode: Touring the Angel Live in Milan|\n",
            "|A Woman Is a Woman                           |\n",
            "|History Is Made at Night                     |\n",
            "|Colombian Love                               |\n",
            "+---------------------------------------------+\n",
            "only showing top 10 rows\n",
            "\n"
          ]
        }
      ]
    },
    {
      "cell_type": "code",
      "source": [
        "# Distinct Aggregations\n",
        "df_temp=df.withColumn('release_year',year('release_date'))\n",
        "df_temp.groupBy(\"release_year\").agg(countDistinct(\"title\")).show(10,False)"
      ],
      "metadata": {
        "colab": {
          "base_uri": "https://localhost:8080/"
        },
        "id": "3-SSrTq9WxWA",
        "outputId": "703ca20d-d37f-4ec9-e569-facac36c7a29"
      },
      "execution_count": 26,
      "outputs": [
        {
          "output_type": "stream",
          "name": "stdout",
          "text": [
            "+------------+---------------------+\n",
            "|release_year|count(DISTINCT title)|\n",
            "+------------+---------------------+\n",
            "|1959        |271                  |\n",
            "|1990        |496                  |\n",
            "|1975        |365                  |\n",
            "|1977        |415                  |\n",
            "|1924        |19                   |\n",
            "|2003        |1199                 |\n",
            "|2007        |1896                 |\n",
            "|2018        |4                    |\n",
            "|1974        |434                  |\n",
            "|2015        |13                   |\n",
            "+------------+---------------------+\n",
            "only showing top 10 rows\n",
            "\n"
          ]
        }
      ]
    },
    {
      "cell_type": "code",
      "source": [
        "# Datetime extractions\n",
        "df_temp=df_temp.withColumn('release_month',month('release_date'))\n",
        "df_temp=df_temp.withColumn('release_day',dayofmonth('release_date'))\n"
      ],
      "metadata": {
        "id": "00G1BL95W1qe"
      },
      "execution_count": 27,
      "outputs": []
    },
    {
      "cell_type": "code",
      "source": [
        "# Output of datetime extractions\n",
        "df_temp.show()"
      ],
      "metadata": {
        "colab": {
          "base_uri": "https://localhost:8080/"
        },
        "id": "RdumuoZbXB8c",
        "outputId": "d6986b7f-2891-4d6d-f7cc-71f6c290d145"
      },
      "execution_count": 28,
      "outputs": [
        {
          "output_type": "stream",
          "name": "stdout",
          "text": [
            "+-----+---------+----------+------------+---------+--------------------+------------+-------------+-----------+\n",
            "|   id|   budget|popularity|release_date|  revenue|               title|release_year|release_month|release_day|\n",
            "+-----+---------+----------+------------+---------+--------------------+------------+-------------+-----------+\n",
            "|43000|      0.0|     2.503|  1962-05-23|      0.0|The Elusive Corporal|        1962|            5|         23|\n",
            "|43001|      0.0|      5.51|  1962-11-12|      0.0|  Sundays and Cybele|        1962|           11|         12|\n",
            "|43002|      0.0|      5.62|  1962-05-24|      0.0|Lonely Are the Brave|        1962|            5|         24|\n",
            "|43003|      0.0|     7.159|  1975-03-12|      0.0|          F for Fake|        1975|            3|         12|\n",
            "|43004| 500000.0|     3.988|  1962-10-09|      0.0|Long Day's Journe...|        1962|           10|          9|\n",
            "|43006|      0.0|     3.194|  1962-03-09|      0.0|           My Geisha|        1962|            3|          9|\n",
            "|43007|      0.0|     2.689|  1962-10-31|      0.0|Period of Adjustment|        1962|           10|         31|\n",
            "|43008|      0.0|     6.537|  1959-03-13|      0.0|    The Hanging Tree|        1959|            3|         13|\n",
            "|43010|      0.0|     4.297|  1962-01-01|      0.0|Sherlock Holmes a...|        1962|            1|          1|\n",
            "|43011|      0.0|     4.417|  1962-01-01|      0.0|  Sodom and Gomorrah|        1962|            1|          1|\n",
            "|43012|7000000.0|     4.722|  1962-11-21|4000000.0|         Taras Bulba|        1962|           11|         21|\n",
            "|43013|      0.0|     2.543|  1962-04-17|      0.0|The Counterfeit T...|        1962|            4|         17|\n",
            "|43014|      0.0|     4.303|  1962-10-24|      0.0|     Tower of London|        1962|           10|         24|\n",
            "|43015|      0.0|     3.493|  1962-12-07|      0.0|Varan the Unbelie...|        1962|           12|          7|\n",
            "|43016|      0.0|     2.851|  1962-01-01|      0.0|Waltz of the Tore...|        1962|            1|          1|\n",
            "|43017|      0.0|     4.047|  1961-10-11|      0.0|         Back Street|        1961|           10|         11|\n",
            "|43018|      0.0|     2.661|  1961-06-02|      0.0|Gidget Goes Hawaiian|        1961|            6|          2|\n",
            "|43019|      0.0|     3.225|  2010-05-28|      0.0|Schuks Tshabalala...|        2010|            5|         28|\n",
            "|43020|      0.0|      5.72|  1961-06-15|      0.0|The Colossus of R...|        1961|            6|         15|\n",
            "|43021|      0.0|     3.292|  2008-08-22|      0.0|          Sex Galaxy|        2008|            8|         22|\n",
            "+-----+---------+----------+------------+---------+--------------------+------------+-------------+-----------+\n",
            "only showing top 20 rows\n",
            "\n"
          ]
        }
      ]
    },
    {
      "cell_type": "code",
      "source": [
        "# Filtering based on like\n",
        "df.filter(df['title'].like('Meet%')).show(10,False)"
      ],
      "metadata": {
        "colab": {
          "base_uri": "https://localhost:8080/"
        },
        "id": "sbqaWyJ1XJbx",
        "outputId": "2b244902-e223-411f-c37a-ea0123f7a807"
      },
      "execution_count": 29,
      "outputs": [
        {
          "output_type": "stream",
          "name": "stdout",
          "text": [
            "+-----+---------+----------+------------+-----------+--------------------------+\n",
            "|id   |budget   |popularity|release_date|revenue    |title                     |\n",
            "+-----+---------+----------+------------+-----------+--------------------------+\n",
            "|43957|500000.0 |2.649     |2005-06-28  |1000000.0  |Meet The Browns - The Play|\n",
            "|39997|0.0      |3.585     |1989-11-15  |0.0        |Meet the Hollowheads      |\n",
            "|16710|0.0      |11.495    |2008-03-21  |4.1939392E7|Meet the Browns           |\n",
            "|20430|0.0      |3.614     |2004-01-29  |0.0        |Meet Market               |\n",
            "|76435|0.0      |1.775     |2011-03-31  |0.0        |Meet the In-Laws          |\n",
            "|76516|5000000.0|4.05      |1990-11-08  |485772.0   |Meet the Applegates       |\n",
            "|7278 |3.0E7    |11.116    |2008-01-24  |8.4646832E7|Meet the Spartans         |\n",
            "|32574|0.0      |7.42      |1941-03-14  |0.0        |Meet John Doe             |\n",
            "|40506|0.0      |4.814     |1997-01-31  |0.0        |Meet Wally Sparks         |\n",
            "|40688|2.4E7    |6.848     |1998-03-27  |4562146.0  |Meet the Deedles          |\n",
            "+-----+---------+----------+------------+-----------+--------------------------+\n",
            "only showing top 10 rows\n",
            "\n"
          ]
        }
      ]
    },
    {
      "cell_type": "code",
      "source": [
        "# Filtering based on not like\n",
        "df.filter(~df['title'].like('%s')).show(10,False)"
      ],
      "metadata": {
        "colab": {
          "base_uri": "https://localhost:8080/"
        },
        "id": "QkriXIlMXRVg",
        "outputId": "b7c50881-0d3f-47fa-f1e2-473f417d2cda"
      },
      "execution_count": 30,
      "outputs": [
        {
          "output_type": "stream",
          "name": "stdout",
          "text": [
            "+-----+--------+----------+------------+-------+---------------------------------------+\n",
            "|id   |budget  |popularity|release_date|revenue|title                                  |\n",
            "+-----+--------+----------+------------+-------+---------------------------------------+\n",
            "|43000|0.0     |2.503     |1962-05-23  |0.0    |The Elusive Corporal                   |\n",
            "|43001|0.0     |5.51      |1962-11-12  |0.0    |Sundays and Cybele                     |\n",
            "|43002|0.0     |5.62      |1962-05-24  |0.0    |Lonely Are the Brave                   |\n",
            "|43003|0.0     |7.159     |1975-03-12  |0.0    |F for Fake                             |\n",
            "|43004|500000.0|3.988     |1962-10-09  |0.0    |Long Day's Journey Into Night          |\n",
            "|43006|0.0     |3.194     |1962-03-09  |0.0    |My Geisha                              |\n",
            "|43007|0.0     |2.689     |1962-10-31  |0.0    |Period of Adjustment                   |\n",
            "|43008|0.0     |6.537     |1959-03-13  |0.0    |The Hanging Tree                       |\n",
            "|43010|0.0     |4.297     |1962-01-01  |0.0    |Sherlock Holmes and the Deadly Necklace|\n",
            "|43011|0.0     |4.417     |1962-01-01  |0.0    |Sodom and Gomorrah                     |\n",
            "+-----+--------+----------+------------+-------+---------------------------------------+\n",
            "only showing top 10 rows\n",
            "\n"
          ]
        }
      ]
    },
    {
      "cell_type": "code",
      "source": [
        "# Filtering based on not regular expressions - P1\n",
        "df.filter(df['title'].rlike('[A-Z]*ove')).show(10,False)"
      ],
      "metadata": {
        "colab": {
          "base_uri": "https://localhost:8080/"
        },
        "id": "MOohiNSiXSr_",
        "outputId": "5c7fd392-137a-425a-dcda-4607279ee707"
      },
      "execution_count": 31,
      "outputs": [
        {
          "output_type": "stream",
          "name": "stdout",
          "text": [
            "+-----+------+----------+------------+------------+------------------------+\n",
            "|id   |budget|popularity|release_date|revenue     |title                   |\n",
            "+-----+------+----------+------------+------------+------------------------+\n",
            "|43100|0.0   |7.252     |1959-10-07  |0.0         |General Della Rovere    |\n",
            "|43152|0.0   |5.126     |2001-06-21  |0.0         |Love on a Diet          |\n",
            "|43191|0.0   |4.921     |1952-08-29  |0.0         |Beware, My Lovely       |\n",
            "|43281|0.0   |2.411     |1989-11-22  |0.0         |Love Without Pity       |\n",
            "|43343|0.0   |3.174     |1953-12-25  |0.0         |Easy to Love            |\n",
            "|43347|3.0E7 |14.863    |2010-11-22  |1.02820008E8|Love & Other Drugs      |\n",
            "|43362|0.0   |1.705     |1952-02-23  |0.0         |Love Is Better Than Ever|\n",
            "|43363|0.0   |2.02      |1952-05-29  |0.0         |Lovely to Look At       |\n",
            "|43395|0.0   |4.758     |1950-11-10  |0.0         |Two Weeks with Love     |\n",
            "|43455|0.0   |4.669     |1948-08-23  |0.0         |The Loves of Carmen     |\n",
            "+-----+------+----------+------------+------------+------------------------+\n",
            "only showing top 10 rows\n",
            "\n"
          ]
        }
      ]
    },
    {
      "cell_type": "code",
      "source": [
        "# Filtering based on contain function\n",
        "df.filter(df.title.contains('ove')).show()"
      ],
      "metadata": {
        "colab": {
          "base_uri": "https://localhost:8080/"
        },
        "id": "mrGsDmEYXWw6",
        "outputId": "d0391a3b-6698-41d1-96e2-c1fe3d3594b5"
      },
      "execution_count": 32,
      "outputs": [
        {
          "output_type": "stream",
          "name": "stdout",
          "text": [
            "+-----+------+----------+------------+------------+--------------------+\n",
            "|   id|budget|popularity|release_date|     revenue|               title|\n",
            "+-----+------+----------+------------+------------+--------------------+\n",
            "|43100|   0.0|     7.252|  1959-10-07|         0.0|General Della Rovere|\n",
            "|43152|   0.0|     5.126|  2001-06-21|         0.0|      Love on a Diet|\n",
            "|43191|   0.0|     4.921|  1952-08-29|         0.0|   Beware, My Lovely|\n",
            "|43281|   0.0|     2.411|  1989-11-22|         0.0|   Love Without Pity|\n",
            "|43343|   0.0|     3.174|  1953-12-25|         0.0|        Easy to Love|\n",
            "|43347| 3.0E7|    14.863|  2010-11-22|1.02820008E8|  Love & Other Drugs|\n",
            "|43362|   0.0|     1.705|  1952-02-23|         0.0|Love Is Better Th...|\n",
            "|43363|   0.0|      2.02|  1952-05-29|         0.0|   Lovely to Look At|\n",
            "|43395|   0.0|     4.758|  1950-11-10|         0.0| Two Weeks with Love|\n",
            "|43455|   0.0|     4.669|  1948-08-23|         0.0| The Loves of Carmen|\n",
            "|43483|   0.0|     3.161|  1946-12-25|         0.0|Love Laughs at An...|\n",
            "|43547|   0.0|     7.635|  2009-01-30|         0.0|Between Love & Go...|\n",
            "|43556|   0.0|     2.418|  2006-10-31|         0.0|Joe Satriani - Li...|\n",
            "|43561|   0.0|     8.475|  2004-12-17|         0.0|   Christmas in Love|\n",
            "|43609|   0.0|     5.684|  2010-04-07|         0.0|    My Own Love Song|\n",
            "|43652|   0.0|     3.097|  2009-11-19|         0.0| Beloved Berlin Wall|\n",
            "|43739|   0.0|     4.514|  1939-04-07|         0.0|         Love Affair|\n",
            "|43742| 6.0E7|     3.723|  1994-10-21|         0.0|         Love Affair|\n",
            "|43764|   0.0|      0.73|  2006-01-01|         0.0|The Fish Fall in ...|\n",
            "|43787|   0.0|     5.769|  1942-11-19|         0.0|You Were Never Lo...|\n",
            "+-----+------+----------+------------+------------+--------------------+\n",
            "only showing top 20 rows\n",
            "\n"
          ]
        }
      ]
    },
    {
      "cell_type": "code",
      "source": [
        "# Filtering based on regular expression - P2\n",
        "df.filter(df['title'].rlike('\\w*ove')).count()"
      ],
      "metadata": {
        "colab": {
          "base_uri": "https://localhost:8080/"
        },
        "id": "9EacHoOIXbej",
        "outputId": "c80c2c7c-3879-407c-ac84-c58e1c682ba3"
      },
      "execution_count": 33,
      "outputs": [
        {
          "output_type": "execute_result",
          "data": {
            "text/plain": [
              "1025"
            ]
          },
          "metadata": {},
          "execution_count": 33
        }
      ]
    },
    {
      "cell_type": "code",
      "source": [
        "# Filtering based on regular expression with ColRegex to subset columns - P1\n",
        "df.select(df.colRegex(\"`(re)+?.+`\")).printSchema()"
      ],
      "metadata": {
        "colab": {
          "base_uri": "https://localhost:8080/"
        },
        "id": "_YEzWyB1Xe-J",
        "outputId": "44e755e9-6e9a-4328-cf09-b305a19b17a3"
      },
      "execution_count": 34,
      "outputs": [
        {
          "output_type": "stream",
          "name": "stdout",
          "text": [
            "root\n",
            " |-- release_date: date (nullable = true)\n",
            " |-- revenue: float (nullable = true)\n",
            "\n"
          ]
        }
      ]
    },
    {
      "cell_type": "code",
      "source": [
        "# Filtering based on regular expression with ColRegex to subset columns - P2\n",
        "df.select(df.colRegex(\"`re\\w*`\")).printSchema()"
      ],
      "metadata": {
        "colab": {
          "base_uri": "https://localhost:8080/"
        },
        "id": "42GXs-paXihE",
        "outputId": "c1e9109d-b5e0-4ac7-d60c-9c5fe6205c9e"
      },
      "execution_count": 35,
      "outputs": [
        {
          "output_type": "stream",
          "name": "stdout",
          "text": [
            "root\n",
            " |-- release_date: date (nullable = true)\n",
            " |-- revenue: float (nullable = true)\n",
            "\n"
          ]
        }
      ]
    },
    {
      "cell_type": "code",
      "source": [
        "# Filtering based on regular expression with ColRegex to subset columns - P3\n",
        "df.select(df.colRegex(\"`\\w*e`\")).printSchema()"
      ],
      "metadata": {
        "colab": {
          "base_uri": "https://localhost:8080/"
        },
        "id": "aiS4q0O4YAmG",
        "outputId": "2cc1bcce-0ce5-473a-b5e8-6e5410911246"
      },
      "execution_count": 36,
      "outputs": [
        {
          "output_type": "stream",
          "name": "stdout",
          "text": [
            "root\n",
            " |-- release_date: date (nullable = true)\n",
            " |-- revenue: float (nullable = true)\n",
            " |-- title: string (nullable = true)\n",
            "\n"
          ]
        }
      ]
    },
    {
      "cell_type": "code",
      "source": [
        "# New Columns\n",
        "mean_pop=df.agg({'popularity': 'mean'}).collect()[0]['avg(popularity)']\n",
        "count_obs= df.count()\n",
        "df=df.withColumn('mean_popularity',lit(mean_pop))\n",
        "df=df.withColumn('varaiance',pow((df['popularity']-df['mean_popularity']),2))\n",
        "df.printSchema()"
      ],
      "metadata": {
        "colab": {
          "base_uri": "https://localhost:8080/"
        },
        "id": "D7VdCMZDYEM5",
        "outputId": "cfba46e5-d415-4c79-effb-95be72a43a47"
      },
      "execution_count": 37,
      "outputs": [
        {
          "output_type": "stream",
          "name": "stdout",
          "text": [
            "root\n",
            " |-- id: integer (nullable = true)\n",
            " |-- budget: float (nullable = true)\n",
            " |-- popularity: float (nullable = true)\n",
            " |-- release_date: date (nullable = true)\n",
            " |-- revenue: float (nullable = true)\n",
            " |-- title: string (nullable = true)\n",
            " |-- mean_popularity: double (nullable = false)\n",
            " |-- varaiance: double (nullable = true)\n",
            "\n"
          ]
        }
      ]
    },
    {
      "cell_type": "code",
      "source": [
        "# New Columns - output\n",
        "df.show()"
      ],
      "metadata": {
        "colab": {
          "base_uri": "https://localhost:8080/"
        },
        "id": "V1jYwnAuYIbL",
        "outputId": "4fc6b879-beb2-4b10-9113-22b88d74d363"
      },
      "execution_count": 38,
      "outputs": [
        {
          "output_type": "stream",
          "name": "stdout",
          "text": [
            "+-----+---------+----------+------------+---------+--------------------+-----------------+--------------------+\n",
            "|   id|   budget|popularity|release_date|  revenue|               title|  mean_popularity|           varaiance|\n",
            "+-----+---------+----------+------------+---------+--------------------+-----------------+--------------------+\n",
            "|43000|      0.0|     2.503|  1962-05-23|      0.0|The Elusive Corporal|5.295444259579189|   7.797744825681142|\n",
            "|43001|      0.0|      5.51|  1962-11-12|      0.0|  Sundays and Cybele|5.295444259579189|0.046034263963398346|\n",
            "|43002|      0.0|      5.62|  1962-05-24|      0.0|Lonely Are the Brave|5.295444259579189| 0.10533635435520017|\n",
            "|43003|      0.0|     7.159|  1975-03-12|      0.0|          F for Fake|5.295444259579189|  3.4728396990815216|\n",
            "|43004| 500000.0|     3.988|  1962-10-09|      0.0|Long Day's Journe...|5.295444259579189|   1.709410711356759|\n",
            "|43006|      0.0|     3.194|  1962-03-09|      0.0|           My Geisha|5.295444259579189|   4.416067952069205|\n",
            "|43007|      0.0|     2.689|  1962-10-31|      0.0|Period of Adjustment|5.295444259579189|   6.793552245032679|\n",
            "|43008|      0.0|     6.537|  1959-03-13|      0.0|    The Hanging Tree|5.295444259579189|  1.5414611017708733|\n",
            "|43010|      0.0|     4.297|  1962-01-01|      0.0|Sherlock Holmes a...|5.295444259579189|   0.996891076602093|\n",
            "|43011|      0.0|     4.417|  1962-01-01|      0.0|  Sodom and Gomorrah|5.295444259579189|  0.7716646388835591|\n",
            "|43012|7000000.0|     4.722|  1962-11-21|4000000.0|         Taras Bulba|5.295444259579189| 0.32883817884329936|\n",
            "|43013|      0.0|     2.543|  1962-04-17|      0.0|The Counterfeit T...|5.295444259579189|   7.575949496588105|\n",
            "|43014|      0.0|     4.303|  1962-10-24|      0.0|     Tower of London|5.295444259579189|  0.9849456613739271|\n",
            "|43015|      0.0|     3.493|  1962-12-07|      0.0|Varan the Unbelie...|5.295444259579189|   3.248805198877505|\n",
            "|43016|      0.0|     2.851|  1962-01-01|      0.0|Waltz of the Tore...|5.295444259579189|   5.975307393171506|\n",
            "|43017|      0.0|     4.047|  1961-10-11|      0.0|         Back Street|5.295444259579189|  1.5586132407239628|\n",
            "|43018|      0.0|     2.661|  1961-06-02|      0.0|Gidget Goes Hawaiian|5.295444259579189|   6.940296486482491|\n",
            "|43019|      0.0|     3.225|  2010-05-28|      0.0|Schuks Tshabalala...|5.295444259579189|  4.2867398269303285|\n",
            "|43020|      0.0|      5.72|  1961-06-15|      0.0|The Colossus of R...|5.295444259579189|  0.1802473985736286|\n",
            "|43021|      0.0|     3.292|  2008-08-22|      0.0|          Sex Galaxy|5.295444259579189|   4.013788679607341|\n",
            "+-----+---------+----------+------------+---------+--------------------+-----------------+--------------------+\n",
            "only showing top 20 rows\n",
            "\n"
          ]
        }
      ]
    },
    {
      "cell_type": "code",
      "source": [
        "# variance calculation\n",
        "variance_sum=df.agg({'varaiance': 'sum'}).collect()[0]['sum(varaiance)']\n",
        "print(variance_sum)\n",
        "variance_population= variance_sum/(count_obs-1)\n",
        "print(variance_population)"
      ],
      "metadata": {
        "colab": {
          "base_uri": "https://localhost:8080/"
        },
        "id": "DobVD5QNYJcC",
        "outputId": "e909637c-0731-4e0c-c1fd-b50db2cbef79"
      },
      "execution_count": 39,
      "outputs": [
        {
          "output_type": "stream",
          "name": "stdout",
          "text": [
            "1665668.6984730042\n",
            "37.858688057663116\n"
          ]
        }
      ]
    },
    {
      "cell_type": "code",
      "source": [
        "# Standard deviation\n",
        "import math\n",
        "math.sqrt(variance_population)"
      ],
      "metadata": {
        "colab": {
          "base_uri": "https://localhost:8080/"
        },
        "id": "aHRT0AtOYOTo",
        "outputId": "d611eecf-3fb4-4ff3-c1b1-93ebe6dc55c6"
      },
      "execution_count": 40,
      "outputs": [
        {
          "output_type": "execute_result",
          "data": {
            "text/plain": [
              "6.152941415100839"
            ]
          },
          "metadata": {},
          "execution_count": 40
        }
      ]
    },
    {
      "cell_type": "code",
      "source": [
        "# Variance calculation sub output\n",
        "df.show()"
      ],
      "metadata": {
        "colab": {
          "base_uri": "https://localhost:8080/"
        },
        "id": "l02K-LVXYRax",
        "outputId": "f084ba61-193a-4781-d761-a88ed48c612e"
      },
      "execution_count": 41,
      "outputs": [
        {
          "output_type": "stream",
          "name": "stdout",
          "text": [
            "+-----+---------+----------+------------+---------+--------------------+-----------------+--------------------+\n",
            "|   id|   budget|popularity|release_date|  revenue|               title|  mean_popularity|           varaiance|\n",
            "+-----+---------+----------+------------+---------+--------------------+-----------------+--------------------+\n",
            "|43000|      0.0|     2.503|  1962-05-23|      0.0|The Elusive Corporal|5.295444259579189|   7.797744825681142|\n",
            "|43001|      0.0|      5.51|  1962-11-12|      0.0|  Sundays and Cybele|5.295444259579189|0.046034263963398346|\n",
            "|43002|      0.0|      5.62|  1962-05-24|      0.0|Lonely Are the Brave|5.295444259579189| 0.10533635435520017|\n",
            "|43003|      0.0|     7.159|  1975-03-12|      0.0|          F for Fake|5.295444259579189|  3.4728396990815216|\n",
            "|43004| 500000.0|     3.988|  1962-10-09|      0.0|Long Day's Journe...|5.295444259579189|   1.709410711356759|\n",
            "|43006|      0.0|     3.194|  1962-03-09|      0.0|           My Geisha|5.295444259579189|   4.416067952069205|\n",
            "|43007|      0.0|     2.689|  1962-10-31|      0.0|Period of Adjustment|5.295444259579189|   6.793552245032679|\n",
            "|43008|      0.0|     6.537|  1959-03-13|      0.0|    The Hanging Tree|5.295444259579189|  1.5414611017708733|\n",
            "|43010|      0.0|     4.297|  1962-01-01|      0.0|Sherlock Holmes a...|5.295444259579189|   0.996891076602093|\n",
            "|43011|      0.0|     4.417|  1962-01-01|      0.0|  Sodom and Gomorrah|5.295444259579189|  0.7716646388835591|\n",
            "|43012|7000000.0|     4.722|  1962-11-21|4000000.0|         Taras Bulba|5.295444259579189| 0.32883817884329936|\n",
            "|43013|      0.0|     2.543|  1962-04-17|      0.0|The Counterfeit T...|5.295444259579189|   7.575949496588105|\n",
            "|43014|      0.0|     4.303|  1962-10-24|      0.0|     Tower of London|5.295444259579189|  0.9849456613739271|\n",
            "|43015|      0.0|     3.493|  1962-12-07|      0.0|Varan the Unbelie...|5.295444259579189|   3.248805198877505|\n",
            "|43016|      0.0|     2.851|  1962-01-01|      0.0|Waltz of the Tore...|5.295444259579189|   5.975307393171506|\n",
            "|43017|      0.0|     4.047|  1961-10-11|      0.0|         Back Street|5.295444259579189|  1.5586132407239628|\n",
            "|43018|      0.0|     2.661|  1961-06-02|      0.0|Gidget Goes Hawaiian|5.295444259579189|   6.940296486482491|\n",
            "|43019|      0.0|     3.225|  2010-05-28|      0.0|Schuks Tshabalala...|5.295444259579189|  4.2867398269303285|\n",
            "|43020|      0.0|      5.72|  1961-06-15|      0.0|The Colossus of R...|5.295444259579189|  0.1802473985736286|\n",
            "|43021|      0.0|     3.292|  2008-08-22|      0.0|          Sex Galaxy|5.295444259579189|   4.013788679607341|\n",
            "+-----+---------+----------+------------+---------+--------------------+-----------------+--------------------+\n",
            "only showing top 20 rows\n",
            "\n"
          ]
        }
      ]
    },
    {
      "cell_type": "code",
      "source": [
        "#  New Columns - Method 2\n",
        "def new_cols(budget,popularity):\n",
        " if budget<10000000: budget_cat='Small'\n",
        " elif budget<100000000: budget_cat='Medium'\n",
        " else: budget_cat='Big'\n",
        " if popularity<3: ratings='Low'\n",
        " elif popularity<5: ratings='Mid'\n",
        " else: ratings='High'\n",
        " return budget_cat,ratings\n",
        "\n",
        "\n",
        "# Apply the user defined function on the dataframe\n",
        "udfB=udf(new_cols,StructType([StructField(\"budget_cat\", StringType(), True),StructField(\"ratings\", StringType(), True)]))\n",
        "temp_df=df.select('id','budget','popularity').withColumn(\"newcat\",udfB(\"budget\",\"popularity\"))\n",
        "# Unbundle the struct type columns into individual columns and drop the struct type\n",
        "df_with_newcols = temp_df.select('id','budget','popularity','newcat').withColumn('budget_cat', temp_df.newcat.getItem('budget_cat')).withColumn('ratings', temp_df.newcat.getItem('ratings')).drop('newcat')\n",
        "df_with_newcols.show(15,False)"
      ],
      "metadata": {
        "colab": {
          "base_uri": "https://localhost:8080/"
        },
        "id": "Xp55p0TWYUto",
        "outputId": "09b2143b-0a05-4ad7-fb7f-f5fe8b8d6651"
      },
      "execution_count": 42,
      "outputs": [
        {
          "output_type": "stream",
          "name": "stdout",
          "text": [
            "+-----+---------+----------+----------+-------+\n",
            "|id   |budget   |popularity|budget_cat|ratings|\n",
            "+-----+---------+----------+----------+-------+\n",
            "|43000|0.0      |2.503     |Small     |Low    |\n",
            "|43001|0.0      |5.51      |Small     |High   |\n",
            "|43002|0.0      |5.62      |Small     |High   |\n",
            "|43003|0.0      |7.159     |Small     |High   |\n",
            "|43004|500000.0 |3.988     |Small     |Mid    |\n",
            "|43006|0.0      |3.194     |Small     |Mid    |\n",
            "|43007|0.0      |2.689     |Small     |Low    |\n",
            "|43008|0.0      |6.537     |Small     |High   |\n",
            "|43010|0.0      |4.297     |Small     |Mid    |\n",
            "|43011|0.0      |4.417     |Small     |Mid    |\n",
            "|43012|7000000.0|4.722     |Small     |Mid    |\n",
            "|43013|0.0      |2.543     |Small     |Low    |\n",
            "|43014|0.0      |4.303     |Small     |Mid    |\n",
            "|43015|0.0      |3.493     |Small     |Mid    |\n",
            "|43016|0.0      |2.851     |Small     |Low    |\n",
            "+-----+---------+----------+----------+-------+\n",
            "only showing top 15 rows\n",
            "\n"
          ]
        }
      ]
    },
    {
      "cell_type": "code",
      "source": [
        "#  New Columns - Observe Metadata\n",
        "temp_df.printSchema()"
      ],
      "metadata": {
        "colab": {
          "base_uri": "https://localhost:8080/"
        },
        "id": "HYp5MZGYYXtQ",
        "outputId": "acd7248d-b672-4fda-f0be-6893417ffddb"
      },
      "execution_count": 43,
      "outputs": [
        {
          "output_type": "stream",
          "name": "stdout",
          "text": [
            "root\n",
            " |-- id: integer (nullable = true)\n",
            " |-- budget: float (nullable = true)\n",
            " |-- popularity: float (nullable = true)\n",
            " |-- newcat: struct (nullable = true)\n",
            " |    |-- budget_cat: string (nullable = true)\n",
            " |    |-- ratings: string (nullable = true)\n",
            "\n"
          ]
        }
      ]
    },
    {
      "cell_type": "code",
      "source": [
        "#  New Columns - Method 3\n",
        "df_with_newcols = df.select('id','budget','popularity').\\\n",
        "withColumn('budget_cat', when(df['budget']<10000000,'Small').when(df['budget']<100000000,'Medium').otherwise('Big')).\\\n",
        "withColumn('ratings', when(df['popularity']<3,'Low').when(df['popularity']<5,'Mid').otherwise('High'))"
      ],
      "metadata": {
        "id": "ti40k_yVYfaO"
      },
      "execution_count": 44,
      "outputs": []
    },
    {
      "cell_type": "code",
      "source": [
        "#  Dropping and renaming\n",
        "columns_to_drop=['budget_cat']\n",
        "df_with_newcols=df_with_newcols.drop(*columns_to_drop)\n",
        "df_with_newcols = df_with_newcols.withColumnRenamed('id','film_id') .withColumnRenamed('ratings','film_ratings')\n",
        "# You can define all the variable changes in the list\n",
        "new_names = [('budget','film_budget'),('popularity','film_popularity')]\n",
        "\n",
        "# Applying the alias function\n",
        "df_with_newcols_renamed = df_with_newcols.select(list(map(lambda old,new:col(old).alias(new),*zip(*new_names))))"
      ],
      "metadata": {
        "id": "B26dQus2YgY_"
      },
      "execution_count": 45,
      "outputs": []
    },
    {
      "cell_type": "code",
      "source": [
        "#  Observe data\n",
        "df_with_newcols.show()"
      ],
      "metadata": {
        "colab": {
          "base_uri": "https://localhost:8080/"
        },
        "id": "_deEd92qYjnk",
        "outputId": "4aa4858e-3cc0-4f14-ccb9-220ffa49cb6a"
      },
      "execution_count": 46,
      "outputs": [
        {
          "output_type": "stream",
          "name": "stdout",
          "text": [
            "+-------+---------+----------+------------+\n",
            "|film_id|   budget|popularity|film_ratings|\n",
            "+-------+---------+----------+------------+\n",
            "|  43000|      0.0|     2.503|         Low|\n",
            "|  43001|      0.0|      5.51|        High|\n",
            "|  43002|      0.0|      5.62|        High|\n",
            "|  43003|      0.0|     7.159|        High|\n",
            "|  43004| 500000.0|     3.988|         Mid|\n",
            "|  43006|      0.0|     3.194|         Mid|\n",
            "|  43007|      0.0|     2.689|         Low|\n",
            "|  43008|      0.0|     6.537|        High|\n",
            "|  43010|      0.0|     4.297|         Mid|\n",
            "|  43011|      0.0|     4.417|         Mid|\n",
            "|  43012|7000000.0|     4.722|         Mid|\n",
            "|  43013|      0.0|     2.543|         Low|\n",
            "|  43014|      0.0|     4.303|         Mid|\n",
            "|  43015|      0.0|     3.493|         Mid|\n",
            "|  43016|      0.0|     2.851|         Low|\n",
            "|  43017|      0.0|     4.047|         Mid|\n",
            "|  43018|      0.0|     2.661|         Low|\n",
            "|  43019|      0.0|     3.225|         Mid|\n",
            "|  43020|      0.0|      5.72|        High|\n",
            "|  43021|      0.0|     3.292|         Mid|\n",
            "+-------+---------+----------+------------+\n",
            "only showing top 20 rows\n",
            "\n"
          ]
        }
      ]
    }
  ]
}